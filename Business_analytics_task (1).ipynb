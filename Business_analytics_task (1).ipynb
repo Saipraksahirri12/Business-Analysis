{
  "nbformat": 4,
  "nbformat_minor": 0,
  "metadata": {
    "colab": {
      "provenance": []
    },
    "kernelspec": {
      "name": "python3",
      "display_name": "Python 3"
    },
    "language_info": {
      "name": "python"
    }
  },
  "cells": [
    {
      "cell_type": "markdown",
      "source": [
        "Task 1: Data overview"
      ],
      "metadata": {
        "id": "t1K9xsTGKBO0"
      }
    },
    {
      "cell_type": "code",
      "execution_count": null,
      "metadata": {
        "id": "RRlWa5mmJnsR"
      },
      "outputs": [],
      "source": [
        "import pandas as pd\n",
        "file_path = '/content/Data_set 2 - Copy.csv'\n",
        "dataset = pd.read_csv(file_path)"
      ]
    },
    {
      "cell_type": "code",
      "source": [
        "dataset.info()\n",
        "dataset.head()"
      ],
      "metadata": {
        "colab": {
          "base_uri": "https://localhost:8080/",
          "height": 985
        },
        "id": "RUSUAaq8J6DF",
        "outputId": "e2ee9365-891d-4136-fef0-36af392b05c7"
      },
      "execution_count": 40,
      "outputs": [
        {
          "output_type": "stream",
          "name": "stdout",
          "text": [
            "<class 'pandas.core.frame.DataFrame'>\n",
            "RangeIndex: 40 entries, 0 to 39\n",
            "Data columns (total 24 columns):\n",
            " #   Column                             Non-Null Count  Dtype  \n",
            "---  ------                             --------------  -----  \n",
            " 0   gender                             40 non-null     object \n",
            " 1   age                                40 non-null     int64  \n",
            " 2   Investment_Avenues                 40 non-null     object \n",
            " 3   Mutual_Funds                       40 non-null     int64  \n",
            " 4   Equity_Market                      40 non-null     int64  \n",
            " 5   Debentures                         40 non-null     int64  \n",
            " 6   Government_Bonds                   40 non-null     int64  \n",
            " 7   Fixed_Deposits                     40 non-null     int64  \n",
            " 8   PPF                                40 non-null     int64  \n",
            " 9   Gold                               40 non-null     int64  \n",
            " 10  Stock_Marktet                      40 non-null     object \n",
            " 11  Factor                             40 non-null     object \n",
            " 12  Objective                          40 non-null     object \n",
            " 13  Purpose                            40 non-null     object \n",
            " 14  Duration                           40 non-null     float64\n",
            " 15  Invest_Monitor                     40 non-null     object \n",
            " 16  Expect                             40 non-null     float64\n",
            " 17  Avenue                             40 non-null     object \n",
            " 18  What are your savings objectives?  40 non-null     object \n",
            " 19  Reason_Equity                      40 non-null     object \n",
            " 20  Reason_Mutual                      40 non-null     object \n",
            " 21  Reason_Bonds                       40 non-null     object \n",
            " 22  Reason_FD                          40 non-null     object \n",
            " 23  Source                             40 non-null     object \n",
            "dtypes: float64(2), int64(8), object(14)\n",
            "memory usage: 7.6+ KB\n"
          ]
        },
        {
          "output_type": "execute_result",
          "data": {
            "text/plain": [
              "   gender  age Investment_Avenues  Mutual_Funds  Equity_Market  Debentures  \\\n",
              "0  Female   34                Yes             1              2           5   \n",
              "1  Female   23                Yes             4              3           2   \n",
              "2    Male   30                Yes             3              6           4   \n",
              "3    Male   22                Yes             2              1           3   \n",
              "4  Female   24                 No             2              1           3   \n",
              "\n",
              "   Government_Bonds  Fixed_Deposits  PPF  Gold  ... Duration Invest_Monitor  \\\n",
              "0                 3               7    6     4  ...      2.0        Monthly   \n",
              "1                 1               5    6     7  ...      6.0         Weekly   \n",
              "2                 2               5    1     7  ...      4.0          Daily   \n",
              "3                 7               6    4     5  ...      0.5          Daily   \n",
              "4                 6               4    5     7  ...      0.5          Daily   \n",
              "\n",
              "  Expect       Avenue  What are your savings objectives?  \\\n",
              "0   25.0  Mutual Fund                    Retirement Plan   \n",
              "1   25.0  Mutual Fund                        Health Care   \n",
              "2   25.0       Equity                    Retirement Plan   \n",
              "3   15.0       Equity                    Retirement Plan   \n",
              "4   25.0       Equity                    Retirement Plan   \n",
              "\n",
              "          Reason_Equity         Reason_Mutual     Reason_Bonds  \\\n",
              "0  Capital Appreciation        Better Returns  Safe Investment   \n",
              "1              Dividend        Better Returns  Safe Investment   \n",
              "2  Capital Appreciation          Tax Benefits  Assured Returns   \n",
              "3              Dividend  Fund Diversification   Tax Incentives   \n",
              "4  Capital Appreciation        Better Returns  Safe Investment   \n",
              "\n",
              "             Reason_FD                    Source  \n",
              "0        Fixed Returns  Newspapers and Magazines  \n",
              "1  High Interest Rates     Financial Consultants  \n",
              "2        Fixed Returns                Television  \n",
              "3  High Interest Rates                  Internet  \n",
              "4            Risk Free                  Internet  \n",
              "\n",
              "[5 rows x 24 columns]"
            ],
            "text/html": [
              "\n",
              "  <div id=\"df-cbd6bc41-3161-4b47-8802-371651f59d6d\" class=\"colab-df-container\">\n",
              "    <div>\n",
              "<style scoped>\n",
              "    .dataframe tbody tr th:only-of-type {\n",
              "        vertical-align: middle;\n",
              "    }\n",
              "\n",
              "    .dataframe tbody tr th {\n",
              "        vertical-align: top;\n",
              "    }\n",
              "\n",
              "    .dataframe thead th {\n",
              "        text-align: right;\n",
              "    }\n",
              "</style>\n",
              "<table border=\"1\" class=\"dataframe\">\n",
              "  <thead>\n",
              "    <tr style=\"text-align: right;\">\n",
              "      <th></th>\n",
              "      <th>gender</th>\n",
              "      <th>age</th>\n",
              "      <th>Investment_Avenues</th>\n",
              "      <th>Mutual_Funds</th>\n",
              "      <th>Equity_Market</th>\n",
              "      <th>Debentures</th>\n",
              "      <th>Government_Bonds</th>\n",
              "      <th>Fixed_Deposits</th>\n",
              "      <th>PPF</th>\n",
              "      <th>Gold</th>\n",
              "      <th>...</th>\n",
              "      <th>Duration</th>\n",
              "      <th>Invest_Monitor</th>\n",
              "      <th>Expect</th>\n",
              "      <th>Avenue</th>\n",
              "      <th>What are your savings objectives?</th>\n",
              "      <th>Reason_Equity</th>\n",
              "      <th>Reason_Mutual</th>\n",
              "      <th>Reason_Bonds</th>\n",
              "      <th>Reason_FD</th>\n",
              "      <th>Source</th>\n",
              "    </tr>\n",
              "  </thead>\n",
              "  <tbody>\n",
              "    <tr>\n",
              "      <th>0</th>\n",
              "      <td>Female</td>\n",
              "      <td>34</td>\n",
              "      <td>Yes</td>\n",
              "      <td>1</td>\n",
              "      <td>2</td>\n",
              "      <td>5</td>\n",
              "      <td>3</td>\n",
              "      <td>7</td>\n",
              "      <td>6</td>\n",
              "      <td>4</td>\n",
              "      <td>...</td>\n",
              "      <td>2.0</td>\n",
              "      <td>Monthly</td>\n",
              "      <td>25.0</td>\n",
              "      <td>Mutual Fund</td>\n",
              "      <td>Retirement Plan</td>\n",
              "      <td>Capital Appreciation</td>\n",
              "      <td>Better Returns</td>\n",
              "      <td>Safe Investment</td>\n",
              "      <td>Fixed Returns</td>\n",
              "      <td>Newspapers and Magazines</td>\n",
              "    </tr>\n",
              "    <tr>\n",
              "      <th>1</th>\n",
              "      <td>Female</td>\n",
              "      <td>23</td>\n",
              "      <td>Yes</td>\n",
              "      <td>4</td>\n",
              "      <td>3</td>\n",
              "      <td>2</td>\n",
              "      <td>1</td>\n",
              "      <td>5</td>\n",
              "      <td>6</td>\n",
              "      <td>7</td>\n",
              "      <td>...</td>\n",
              "      <td>6.0</td>\n",
              "      <td>Weekly</td>\n",
              "      <td>25.0</td>\n",
              "      <td>Mutual Fund</td>\n",
              "      <td>Health Care</td>\n",
              "      <td>Dividend</td>\n",
              "      <td>Better Returns</td>\n",
              "      <td>Safe Investment</td>\n",
              "      <td>High Interest Rates</td>\n",
              "      <td>Financial Consultants</td>\n",
              "    </tr>\n",
              "    <tr>\n",
              "      <th>2</th>\n",
              "      <td>Male</td>\n",
              "      <td>30</td>\n",
              "      <td>Yes</td>\n",
              "      <td>3</td>\n",
              "      <td>6</td>\n",
              "      <td>4</td>\n",
              "      <td>2</td>\n",
              "      <td>5</td>\n",
              "      <td>1</td>\n",
              "      <td>7</td>\n",
              "      <td>...</td>\n",
              "      <td>4.0</td>\n",
              "      <td>Daily</td>\n",
              "      <td>25.0</td>\n",
              "      <td>Equity</td>\n",
              "      <td>Retirement Plan</td>\n",
              "      <td>Capital Appreciation</td>\n",
              "      <td>Tax Benefits</td>\n",
              "      <td>Assured Returns</td>\n",
              "      <td>Fixed Returns</td>\n",
              "      <td>Television</td>\n",
              "    </tr>\n",
              "    <tr>\n",
              "      <th>3</th>\n",
              "      <td>Male</td>\n",
              "      <td>22</td>\n",
              "      <td>Yes</td>\n",
              "      <td>2</td>\n",
              "      <td>1</td>\n",
              "      <td>3</td>\n",
              "      <td>7</td>\n",
              "      <td>6</td>\n",
              "      <td>4</td>\n",
              "      <td>5</td>\n",
              "      <td>...</td>\n",
              "      <td>0.5</td>\n",
              "      <td>Daily</td>\n",
              "      <td>15.0</td>\n",
              "      <td>Equity</td>\n",
              "      <td>Retirement Plan</td>\n",
              "      <td>Dividend</td>\n",
              "      <td>Fund Diversification</td>\n",
              "      <td>Tax Incentives</td>\n",
              "      <td>High Interest Rates</td>\n",
              "      <td>Internet</td>\n",
              "    </tr>\n",
              "    <tr>\n",
              "      <th>4</th>\n",
              "      <td>Female</td>\n",
              "      <td>24</td>\n",
              "      <td>No</td>\n",
              "      <td>2</td>\n",
              "      <td>1</td>\n",
              "      <td>3</td>\n",
              "      <td>6</td>\n",
              "      <td>4</td>\n",
              "      <td>5</td>\n",
              "      <td>7</td>\n",
              "      <td>...</td>\n",
              "      <td>0.5</td>\n",
              "      <td>Daily</td>\n",
              "      <td>25.0</td>\n",
              "      <td>Equity</td>\n",
              "      <td>Retirement Plan</td>\n",
              "      <td>Capital Appreciation</td>\n",
              "      <td>Better Returns</td>\n",
              "      <td>Safe Investment</td>\n",
              "      <td>Risk Free</td>\n",
              "      <td>Internet</td>\n",
              "    </tr>\n",
              "  </tbody>\n",
              "</table>\n",
              "<p>5 rows × 24 columns</p>\n",
              "</div>\n",
              "    <div class=\"colab-df-buttons\">\n",
              "\n",
              "  <div class=\"colab-df-container\">\n",
              "    <button class=\"colab-df-convert\" onclick=\"convertToInteractive('df-cbd6bc41-3161-4b47-8802-371651f59d6d')\"\n",
              "            title=\"Convert this dataframe to an interactive table.\"\n",
              "            style=\"display:none;\">\n",
              "\n",
              "  <svg xmlns=\"http://www.w3.org/2000/svg\" height=\"24px\" viewBox=\"0 -960 960 960\">\n",
              "    <path d=\"M120-120v-720h720v720H120Zm60-500h600v-160H180v160Zm220 220h160v-160H400v160Zm0 220h160v-160H400v160ZM180-400h160v-160H180v160Zm440 0h160v-160H620v160ZM180-180h160v-160H180v160Zm440 0h160v-160H620v160Z\"/>\n",
              "  </svg>\n",
              "    </button>\n",
              "\n",
              "  <style>\n",
              "    .colab-df-container {\n",
              "      display:flex;\n",
              "      gap: 12px;\n",
              "    }\n",
              "\n",
              "    .colab-df-convert {\n",
              "      background-color: #E8F0FE;\n",
              "      border: none;\n",
              "      border-radius: 50%;\n",
              "      cursor: pointer;\n",
              "      display: none;\n",
              "      fill: #1967D2;\n",
              "      height: 32px;\n",
              "      padding: 0 0 0 0;\n",
              "      width: 32px;\n",
              "    }\n",
              "\n",
              "    .colab-df-convert:hover {\n",
              "      background-color: #E2EBFA;\n",
              "      box-shadow: 0px 1px 2px rgba(60, 64, 67, 0.3), 0px 1px 3px 1px rgba(60, 64, 67, 0.15);\n",
              "      fill: #174EA6;\n",
              "    }\n",
              "\n",
              "    .colab-df-buttons div {\n",
              "      margin-bottom: 4px;\n",
              "    }\n",
              "\n",
              "    [theme=dark] .colab-df-convert {\n",
              "      background-color: #3B4455;\n",
              "      fill: #D2E3FC;\n",
              "    }\n",
              "\n",
              "    [theme=dark] .colab-df-convert:hover {\n",
              "      background-color: #434B5C;\n",
              "      box-shadow: 0px 1px 3px 1px rgba(0, 0, 0, 0.15);\n",
              "      filter: drop-shadow(0px 1px 2px rgba(0, 0, 0, 0.3));\n",
              "      fill: #FFFFFF;\n",
              "    }\n",
              "  </style>\n",
              "\n",
              "    <script>\n",
              "      const buttonEl =\n",
              "        document.querySelector('#df-cbd6bc41-3161-4b47-8802-371651f59d6d button.colab-df-convert');\n",
              "      buttonEl.style.display =\n",
              "        google.colab.kernel.accessAllowed ? 'block' : 'none';\n",
              "\n",
              "      async function convertToInteractive(key) {\n",
              "        const element = document.querySelector('#df-cbd6bc41-3161-4b47-8802-371651f59d6d');\n",
              "        const dataTable =\n",
              "          await google.colab.kernel.invokeFunction('convertToInteractive',\n",
              "                                                    [key], {});\n",
              "        if (!dataTable) return;\n",
              "\n",
              "        const docLinkHtml = 'Like what you see? Visit the ' +\n",
              "          '<a target=\"_blank\" href=https://colab.research.google.com/notebooks/data_table.ipynb>data table notebook</a>'\n",
              "          + ' to learn more about interactive tables.';\n",
              "        element.innerHTML = '';\n",
              "        dataTable['output_type'] = 'display_data';\n",
              "        await google.colab.output.renderOutput(dataTable, element);\n",
              "        const docLink = document.createElement('div');\n",
              "        docLink.innerHTML = docLinkHtml;\n",
              "        element.appendChild(docLink);\n",
              "      }\n",
              "    </script>\n",
              "  </div>\n",
              "\n",
              "\n",
              "<div id=\"df-2d5f7995-5942-41fa-a3e6-99ba135a9d51\">\n",
              "  <button class=\"colab-df-quickchart\" onclick=\"quickchart('df-2d5f7995-5942-41fa-a3e6-99ba135a9d51')\"\n",
              "            title=\"Suggest charts\"\n",
              "            style=\"display:none;\">\n",
              "\n",
              "<svg xmlns=\"http://www.w3.org/2000/svg\" height=\"24px\"viewBox=\"0 0 24 24\"\n",
              "     width=\"24px\">\n",
              "    <g>\n",
              "        <path d=\"M19 3H5c-1.1 0-2 .9-2 2v14c0 1.1.9 2 2 2h14c1.1 0 2-.9 2-2V5c0-1.1-.9-2-2-2zM9 17H7v-7h2v7zm4 0h-2V7h2v10zm4 0h-2v-4h2v4z\"/>\n",
              "    </g>\n",
              "</svg>\n",
              "  </button>\n",
              "\n",
              "<style>\n",
              "  .colab-df-quickchart {\n",
              "      --bg-color: #E8F0FE;\n",
              "      --fill-color: #1967D2;\n",
              "      --hover-bg-color: #E2EBFA;\n",
              "      --hover-fill-color: #174EA6;\n",
              "      --disabled-fill-color: #AAA;\n",
              "      --disabled-bg-color: #DDD;\n",
              "  }\n",
              "\n",
              "  [theme=dark] .colab-df-quickchart {\n",
              "      --bg-color: #3B4455;\n",
              "      --fill-color: #D2E3FC;\n",
              "      --hover-bg-color: #434B5C;\n",
              "      --hover-fill-color: #FFFFFF;\n",
              "      --disabled-bg-color: #3B4455;\n",
              "      --disabled-fill-color: #666;\n",
              "  }\n",
              "\n",
              "  .colab-df-quickchart {\n",
              "    background-color: var(--bg-color);\n",
              "    border: none;\n",
              "    border-radius: 50%;\n",
              "    cursor: pointer;\n",
              "    display: none;\n",
              "    fill: var(--fill-color);\n",
              "    height: 32px;\n",
              "    padding: 0;\n",
              "    width: 32px;\n",
              "  }\n",
              "\n",
              "  .colab-df-quickchart:hover {\n",
              "    background-color: var(--hover-bg-color);\n",
              "    box-shadow: 0 1px 2px rgba(60, 64, 67, 0.3), 0 1px 3px 1px rgba(60, 64, 67, 0.15);\n",
              "    fill: var(--button-hover-fill-color);\n",
              "  }\n",
              "\n",
              "  .colab-df-quickchart-complete:disabled,\n",
              "  .colab-df-quickchart-complete:disabled:hover {\n",
              "    background-color: var(--disabled-bg-color);\n",
              "    fill: var(--disabled-fill-color);\n",
              "    box-shadow: none;\n",
              "  }\n",
              "\n",
              "  .colab-df-spinner {\n",
              "    border: 2px solid var(--fill-color);\n",
              "    border-color: transparent;\n",
              "    border-bottom-color: var(--fill-color);\n",
              "    animation:\n",
              "      spin 1s steps(1) infinite;\n",
              "  }\n",
              "\n",
              "  @keyframes spin {\n",
              "    0% {\n",
              "      border-color: transparent;\n",
              "      border-bottom-color: var(--fill-color);\n",
              "      border-left-color: var(--fill-color);\n",
              "    }\n",
              "    20% {\n",
              "      border-color: transparent;\n",
              "      border-left-color: var(--fill-color);\n",
              "      border-top-color: var(--fill-color);\n",
              "    }\n",
              "    30% {\n",
              "      border-color: transparent;\n",
              "      border-left-color: var(--fill-color);\n",
              "      border-top-color: var(--fill-color);\n",
              "      border-right-color: var(--fill-color);\n",
              "    }\n",
              "    40% {\n",
              "      border-color: transparent;\n",
              "      border-right-color: var(--fill-color);\n",
              "      border-top-color: var(--fill-color);\n",
              "    }\n",
              "    60% {\n",
              "      border-color: transparent;\n",
              "      border-right-color: var(--fill-color);\n",
              "    }\n",
              "    80% {\n",
              "      border-color: transparent;\n",
              "      border-right-color: var(--fill-color);\n",
              "      border-bottom-color: var(--fill-color);\n",
              "    }\n",
              "    90% {\n",
              "      border-color: transparent;\n",
              "      border-bottom-color: var(--fill-color);\n",
              "    }\n",
              "  }\n",
              "</style>\n",
              "\n",
              "  <script>\n",
              "    async function quickchart(key) {\n",
              "      const quickchartButtonEl =\n",
              "        document.querySelector('#' + key + ' button');\n",
              "      quickchartButtonEl.disabled = true;  // To prevent multiple clicks.\n",
              "      quickchartButtonEl.classList.add('colab-df-spinner');\n",
              "      try {\n",
              "        const charts = await google.colab.kernel.invokeFunction(\n",
              "            'suggestCharts', [key], {});\n",
              "      } catch (error) {\n",
              "        console.error('Error during call to suggestCharts:', error);\n",
              "      }\n",
              "      quickchartButtonEl.classList.remove('colab-df-spinner');\n",
              "      quickchartButtonEl.classList.add('colab-df-quickchart-complete');\n",
              "    }\n",
              "    (() => {\n",
              "      let quickchartButtonEl =\n",
              "        document.querySelector('#df-2d5f7995-5942-41fa-a3e6-99ba135a9d51 button');\n",
              "      quickchartButtonEl.style.display =\n",
              "        google.colab.kernel.accessAllowed ? 'block' : 'none';\n",
              "    })();\n",
              "  </script>\n",
              "</div>\n",
              "\n",
              "    </div>\n",
              "  </div>\n"
            ],
            "application/vnd.google.colaboratory.intrinsic+json": {
              "type": "dataframe",
              "variable_name": "dataset"
            }
          },
          "metadata": {},
          "execution_count": 40
        }
      ]
    },
    {
      "cell_type": "markdown",
      "source": [
        "Task 2: Gender Distribution"
      ],
      "metadata": {
        "id": "fpXVGYFiJ-El"
      }
    },
    {
      "cell_type": "code",
      "source": [
        "gender_data = dataset['gender']"
      ],
      "metadata": {
        "id": "87C3_OqmKWmJ"
      },
      "execution_count": null,
      "outputs": []
    },
    {
      "cell_type": "code",
      "source": [
        "import matplotlib.pyplot as plt\n",
        "gender_counts = gender_data.value_counts()\n",
        "gender_counts.plot(kind='bar', color=['blue', 'pink'])\n",
        "plt.title('Gender Distribution')\n",
        "plt.xlabel('Gender')\n",
        "plt.ylabel('Count')\n",
        "plt.show()"
      ],
      "metadata": {
        "colab": {
          "base_uri": "https://localhost:8080/",
          "height": 508
        },
        "id": "rqMEmx2UKedP",
        "outputId": "43abaacb-a19b-436d-f294-07bbee14e079"
      },
      "execution_count": null,
      "outputs": [
        {
          "output_type": "display_data",
          "data": {
            "text/plain": [
              "<Figure size 640x480 with 1 Axes>"
            ],
            "image/png": "[encoded data removed]"
          },
          "metadata": {}
        }
      ]
    },
    {
      "cell_type": "markdown",
      "source": [
        "Task 3: Descriptive Statistics for Numerical Columns"
      ],
      "metadata": {
        "id": "DTYa91qnKh2Q"
      }
    },
    {
      "cell_type": "code",
      "source": [
        "numerical_data = dataset.select_dtypes(include=['float64', 'int64'])\n",
        "numerical_data.describe()"
      ],
      "metadata": {
        "colab": {
          "base_uri": "https://localhost:8080/",
          "height": 300
        },
        "id": "NE3Vecb8KhjR",
        "outputId": "33338435-2b54-42f3-e567-c6fcfdcb597f"
      },
      "execution_count": 42,
      "outputs": [
        {
          "output_type": "execute_result",
          "data": {
            "text/plain": [
              "             age  Mutual_Funds  Equity_Market  Debentures  Government_Bonds  \\\n",
              "count  40.000000     40.000000      40.000000   40.000000         40.000000   \n",
              "mean   27.800000      2.550000       3.475000    5.750000          4.650000   \n",
              "std     3.560467      1.197219       1.131994    1.675617          1.369072   \n",
              "min    21.000000      1.000000       1.000000    1.000000          1.000000   \n",
              "25%    25.750000      2.000000       3.000000    5.000000          4.000000   \n",
              "50%    27.000000      2.000000       4.000000    6.500000          5.000000   \n",
              "75%    30.000000      3.000000       4.000000    7.000000          5.000000   \n",
              "max    35.000000      7.000000       6.000000    7.000000          7.000000   \n",
              "\n",
              "       Fixed_Deposits        PPF       Gold   Duration     Expect  \n",
              "count       40.000000  40.000000  40.000000  40.000000  40.000000  \n",
              "mean         3.575000   2.025000   5.975000   2.975000  25.500000  \n",
              "std          1.795828   1.609069   1.143263   1.224483   4.500712  \n",
              "min          1.000000   1.000000   2.000000   0.500000  15.000000  \n",
              "25%          2.750000   1.000000   6.000000   2.000000  25.000000  \n",
              "50%          3.500000   1.000000   6.000000   3.000000  25.000000  \n",
              "75%          5.000000   2.250000   7.000000   4.000000  25.000000  \n",
              "max          7.000000   6.000000   7.000000   6.000000  35.000000  "
            ],
            "text/html": [
              "\n",
              "  <div id=\"df-345139f4-4d14-49c2-b6a6-5e1bbaf65d00\" class=\"colab-df-container\">\n",
              "    <div>\n",
              "<style scoped>\n",
              "    .dataframe tbody tr th:only-of-type {\n",
              "        vertical-align: middle;\n",
              "    }\n",
              "\n",
              "    .dataframe tbody tr th {\n",
              "        vertical-align: top;\n",
              "    }\n",
              "\n",
              "    .dataframe thead th {\n",
              "        text-align: right;\n",
              "    }\n",
              "</style>\n",
              "<table border=\"1\" class=\"dataframe\">\n",
              "  <thead>\n",
              "    <tr style=\"text-align: right;\">\n",
              "      <th></th>\n",
              "      <th>age</th>\n",
              "      <th>Mutual_Funds</th>\n",
              "      <th>Equity_Market</th>\n",
              "      <th>Debentures</th>\n",
              "      <th>Government_Bonds</th>\n",
              "      <th>Fixed_Deposits</th>\n",
              "      <th>PPF</th>\n",
              "      <th>Gold</th>\n",
              "      <th>Duration</th>\n",
              "      <th>Expect</th>\n",
              "    </tr>\n",
              "  </thead>\n",
              "  <tbody>\n",
              "    <tr>\n",
              "      <th>count</th>\n",
              "      <td>40.000000</td>\n",
              "      <td>40.000000</td>\n",
              "      <td>40.000000</td>\n",
              "      <td>40.000000</td>\n",
              "      <td>40.000000</td>\n",
              "      <td>40.000000</td>\n",
              "      <td>40.000000</td>\n",
              "      <td>40.000000</td>\n",
              "      <td>40.000000</td>\n",
              "      <td>40.000000</td>\n",
              "    </tr>\n",
              "    <tr>\n",
              "      <th>mean</th>\n",
              "      <td>27.800000</td>\n",
              "      <td>2.550000</td>\n",
              "      <td>3.475000</td>\n",
              "      <td>5.750000</td>\n",
              "      <td>4.650000</td>\n",
              "      <td>3.575000</td>\n",
              "      <td>2.025000</td>\n",
              "      <td>5.975000</td>\n",
              "      <td>2.975000</td>\n",
              "      <td>25.500000</td>\n",
              "    </tr>\n",
              "    <tr>\n",
              "      <th>std</th>\n",
              "      <td>3.560467</td>\n",
              "      <td>1.197219</td>\n",
              "      <td>1.131994</td>\n",
              "      <td>1.675617</td>\n",
              "      <td>1.369072</td>\n",
              "      <td>1.795828</td>\n",
              "      <td>1.609069</td>\n",
              "      <td>1.143263</td>\n",
              "      <td>1.224483</td>\n",
              "      <td>4.500712</td>\n",
              "    </tr>\n",
              "    <tr>\n",
              "      <th>min</th>\n",
              "      <td>21.000000</td>\n",
              "      <td>1.000000</td>\n",
              "      <td>1.000000</td>\n",
              "      <td>1.000000</td>\n",
              "      <td>1.000000</td>\n",
              "      <td>1.000000</td>\n",
              "      <td>1.000000</td>\n",
              "      <td>2.000000</td>\n",
              "      <td>0.500000</td>\n",
              "      <td>15.000000</td>\n",
              "    </tr>\n",
              "    <tr>\n",
              "      <th>25%</th>\n",
              "      <td>25.750000</td>\n",
              "      <td>2.000000</td>\n",
              "      <td>3.000000</td>\n",
              "      <td>5.000000</td>\n",
              "      <td>4.000000</td>\n",
              "      <td>2.750000</td>\n",
              "      <td>1.000000</td>\n",
              "      <td>6.000000</td>\n",
              "      <td>2.000000</td>\n",
              "      <td>25.000000</td>\n",
              "    </tr>\n",
              "    <tr>\n",
              "      <th>50%</th>\n",
              "      <td>27.000000</td>\n",
              "      <td>2.000000</td>\n",
              "      <td>4.000000</td>\n",
              "      <td>6.500000</td>\n",
              "      <td>5.000000</td>\n",
              "      <td>3.500000</td>\n",
              "      <td>1.000000</td>\n",
              "      <td>6.000000</td>\n",
              "      <td>3.000000</td>\n",
              "      <td>25.000000</td>\n",
              "    </tr>\n",
              "    <tr>\n",
              "      <th>75%</th>\n",
              "      <td>30.000000</td>\n",
              "      <td>3.000000</td>\n",
              "      <td>4.000000</td>\n",
              "      <td>7.000000</td>\n",
              "      <td>5.000000</td>\n",
              "      <td>5.000000</td>\n",
              "      <td>2.250000</td>\n",
              "      <td>7.000000</td>\n",
              "      <td>4.000000</td>\n",
              "      <td>25.000000</td>\n",
              "    </tr>\n",
              "    <tr>\n",
              "      <th>max</th>\n",
              "      <td>35.000000</td>\n",
              "      <td>7.000000</td>\n",
              "      <td>6.000000</td>\n",
              "      <td>7.000000</td>\n",
              "      <td>7.000000</td>\n",
              "      <td>7.000000</td>\n",
              "      <td>6.000000</td>\n",
              "      <td>7.000000</td>\n",
              "      <td>6.000000</td>\n",
              "      <td>35.000000</td>\n",
              "    </tr>\n",
              "  </tbody>\n",
              "</table>\n",
              "</div>\n",
              "    <div class=\"colab-df-buttons\">\n",
              "\n",
              "  <div class=\"colab-df-container\">\n",
              "    <button class=\"colab-df-convert\" onclick=\"convertToInteractive('df-345139f4-4d14-49c2-b6a6-5e1bbaf65d00')\"\n",
              "            title=\"Convert this dataframe to an interactive table.\"\n",
              "            style=\"display:none;\">\n",
              "\n",
              "  <svg xmlns=\"http://www.w3.org/2000/svg\" height=\"24px\" viewBox=\"0 -960 960 960\">\n",
              "    <path d=\"M120-120v-720h720v720H120Zm60-500h600v-160H180v160Zm220 220h160v-160H400v160Zm0 220h160v-160H400v160ZM180-400h160v-160H180v160Zm440 0h160v-160H620v160ZM180-180h160v-160H180v160Zm440 0h160v-160H620v160Z\"/>\n",
              "  </svg>\n",
              "    </button>\n",
              "\n",
              "  <style>\n",
              "    .colab-df-container {\n",
              "      display:flex;\n",
              "      gap: 12px;\n",
              "    }\n",
              "\n",
              "    .colab-df-convert {\n",
              "      background-color: #E8F0FE;\n",
              "      border: none;\n",
              "      border-radius: 50%;\n",
              "      cursor: pointer;\n",
              "      display: none;\n",
              "      fill: #1967D2;\n",
              "      height: 32px;\n",
              "      padding: 0 0 0 0;\n",
              "      width: 32px;\n",
              "    }\n",
              "\n",
              "    .colab-df-convert:hover {\n",
              "      background-color: #E2EBFA;\n",
              "      box-shadow: 0px 1px 2px rgba(60, 64, 67, 0.3), 0px 1px 3px 1px rgba(60, 64, 67, 0.15);\n",
              "      fill: #174EA6;\n",
              "    }\n",
              "\n",
              "    .colab-df-buttons div {\n",
              "      margin-bottom: 4px;\n",
              "    }\n",
              "\n",
              "    [theme=dark] .colab-df-convert {\n",
              "      background-color: #3B4455;\n",
              "      fill: #D2E3FC;\n",
              "    }\n",
              "\n",
              "    [theme=dark] .colab-df-convert:hover {\n",
              "      background-color: #434B5C;\n",
              "      box-shadow: 0px 1px 3px 1px rgba(0, 0, 0, 0.15);\n",
              "      filter: drop-shadow(0px 1px 2px rgba(0, 0, 0, 0.3));\n",
              "      fill: #FFFFFF;\n",
              "    }\n",
              "  </style>\n",
              "\n",
              "    <script>\n",
              "      const buttonEl =\n",
              "        document.querySelector('#df-345139f4-4d14-49c2-b6a6-5e1bbaf65d00 button.colab-df-convert');\n",
              "      buttonEl.style.display =\n",
              "        google.colab.kernel.accessAllowed ? 'block' : 'none';\n",
              "\n",
              "      async function convertToInteractive(key) {\n",
              "        const element = document.querySelector('#df-345139f4-4d14-49c2-b6a6-5e1bbaf65d00');\n",
              "        const dataTable =\n",
              "          await google.colab.kernel.invokeFunction('convertToInteractive',\n",
              "                                                    [key], {});\n",
              "        if (!dataTable) return;\n",
              "\n",
              "        const docLinkHtml = 'Like what you see? Visit the ' +\n",
              "          '<a target=\"_blank\" href=https://colab.research.google.com/notebooks/data_table.ipynb>data table notebook</a>'\n",
              "          + ' to learn more about interactive tables.';\n",
              "        element.innerHTML = '';\n",
              "        dataTable['output_type'] = 'display_data';\n",
              "        await google.colab.output.renderOutput(dataTable, element);\n",
              "        const docLink = document.createElement('div');\n",
              "        docLink.innerHTML = docLinkHtml;\n",
              "        element.appendChild(docLink);\n",
              "      }\n",
              "    </script>\n",
              "  </div>\n",
              "\n",
              "\n",
              "<div id=\"df-49d48fe9-a4b1-4714-85fe-329689d8cdfb\">\n",
              "  <button class=\"colab-df-quickchart\" onclick=\"quickchart('df-49d48fe9-a4b1-4714-85fe-329689d8cdfb')\"\n",
              "            title=\"Suggest charts\"\n",
              "            style=\"display:none;\">\n",
              "\n",
              "<svg xmlns=\"http://www.w3.org/2000/svg\" height=\"24px\"viewBox=\"0 0 24 24\"\n",
              "     width=\"24px\">\n",
              "    <g>\n",
              "        <path d=\"M19 3H5c-1.1 0-2 .9-2 2v14c0 1.1.9 2 2 2h14c1.1 0 2-.9 2-2V5c0-1.1-.9-2-2-2zM9 17H7v-7h2v7zm4 0h-2V7h2v10zm4 0h-2v-4h2v4z\"/>\n",
              "    </g>\n",
              "</svg>\n",
              "  </button>\n",
              "\n",
              "<style>\n",
              "  .colab-df-quickchart {\n",
              "      --bg-color: #E8F0FE;\n",
              "      --fill-color: #1967D2;\n",
              "      --hover-bg-color: #E2EBFA;\n",
              "      --hover-fill-color: #174EA6;\n",
              "      --disabled-fill-color: #AAA;\n",
              "      --disabled-bg-color: #DDD;\n",
              "  }\n",
              "\n",
              "  [theme=dark] .colab-df-quickchart {\n",
              "      --bg-color: #3B4455;\n",
              "      --fill-color: #D2E3FC;\n",
              "      --hover-bg-color: #434B5C;\n",
              "      --hover-fill-color: #FFFFFF;\n",
              "      --disabled-bg-color: #3B4455;\n",
              "      --disabled-fill-color: #666;\n",
              "  }\n",
              "\n",
              "  .colab-df-quickchart {\n",
              "    background-color: var(--bg-color);\n",
              "    border: none;\n",
              "    border-radius: 50%;\n",
              "    cursor: pointer;\n",
              "    display: none;\n",
              "    fill: var(--fill-color);\n",
              "    height: 32px;\n",
              "    padding: 0;\n",
              "    width: 32px;\n",
              "  }\n",
              "\n",
              "  .colab-df-quickchart:hover {\n",
              "    background-color: var(--hover-bg-color);\n",
              "    box-shadow: 0 1px 2px rgba(60, 64, 67, 0.3), 0 1px 3px 1px rgba(60, 64, 67, 0.15);\n",
              "    fill: var(--button-hover-fill-color);\n",
              "  }\n",
              "\n",
              "  .colab-df-quickchart-complete:disabled,\n",
              "  .colab-df-quickchart-complete:disabled:hover {\n",
              "    background-color: var(--disabled-bg-color);\n",
              "    fill: var(--disabled-fill-color);\n",
              "    box-shadow: none;\n",
              "  }\n",
              "\n",
              "  .colab-df-spinner {\n",
              "    border: 2px solid var(--fill-color);\n",
              "    border-color: transparent;\n",
              "    border-bottom-color: var(--fill-color);\n",
              "    animation:\n",
              "      spin 1s steps(1) infinite;\n",
              "  }\n",
              "\n",
              "  @keyframes spin {\n",
              "    0% {\n",
              "      border-color: transparent;\n",
              "      border-bottom-color: var(--fill-color);\n",
              "      border-left-color: var(--fill-color);\n",
              "    }\n",
              "    20% {\n",
              "      border-color: transparent;\n",
              "      border-left-color: var(--fill-color);\n",
              "      border-top-color: var(--fill-color);\n",
              "    }\n",
              "    30% {\n",
              "      border-color: transparent;\n",
              "      border-left-color: var(--fill-color);\n",
              "      border-top-color: var(--fill-color);\n",
              "      border-right-color: var(--fill-color);\n",
              "    }\n",
              "    40% {\n",
              "      border-color: transparent;\n",
              "      border-right-color: var(--fill-color);\n",
              "      border-top-color: var(--fill-color);\n",
              "    }\n",
              "    60% {\n",
              "      border-color: transparent;\n",
              "      border-right-color: var(--fill-color);\n",
              "    }\n",
              "    80% {\n",
              "      border-color: transparent;\n",
              "      border-right-color: var(--fill-color);\n",
              "      border-bottom-color: var(--fill-color);\n",
              "    }\n",
              "    90% {\n",
              "      border-color: transparent;\n",
              "      border-bottom-color: var(--fill-color);\n",
              "    }\n",
              "  }\n",
              "</style>\n",
              "\n",
              "  <script>\n",
              "    async function quickchart(key) {\n",
              "      const quickchartButtonEl =\n",
              "        document.querySelector('#' + key + ' button');\n",
              "      quickchartButtonEl.disabled = true;  // To prevent multiple clicks.\n",
              "      quickchartButtonEl.classList.add('colab-df-spinner');\n",
              "      try {\n",
              "        const charts = await google.colab.kernel.invokeFunction(\n",
              "            'suggestCharts', [key], {});\n",
              "      } catch (error) {\n",
              "        console.error('Error during call to suggestCharts:', error);\n",
              "      }\n",
              "      quickchartButtonEl.classList.remove('colab-df-spinner');\n",
              "      quickchartButtonEl.classList.add('colab-df-quickchart-complete');\n",
              "    }\n",
              "    (() => {\n",
              "      let quickchartButtonEl =\n",
              "        document.querySelector('#df-49d48fe9-a4b1-4714-85fe-329689d8cdfb button');\n",
              "      quickchartButtonEl.style.display =\n",
              "        google.colab.kernel.accessAllowed ? 'block' : 'none';\n",
              "    })();\n",
              "  </script>\n",
              "</div>\n",
              "\n",
              "    </div>\n",
              "  </div>\n"
            ],
            "application/vnd.google.colaboratory.intrinsic+json": {
              "type": "dataframe",
              "summary": "{\n  \"name\": \"numerical_data\",\n  \"rows\": 8,\n  \"fields\": [\n    {\n      \"column\": \"age\",\n      \"properties\": {\n        \"dtype\": \"number\",\n        \"std\": 10.858034525486168,\n        \"min\": 3.560466693696639,\n        \"max\": 40.0,\n        \"num_unique_values\": 8,\n        \"samples\": [\n          27.8,\n          27.0,\n          40.0\n        ],\n        \"semantic_type\": \"\",\n        \"description\": \"\"\n      }\n    },\n    {\n      \"column\": \"Mutual_Funds\",\n      \"properties\": {\n        \"dtype\": \"number\",\n        \"std\": 13.328440943057165,\n        \"min\": 1.0,\n        \"max\": 40.0,\n        \"num_unique_values\": 7,\n        \"samples\": [\n          40.0,\n          2.55,\n          3.0\n        ],\n        \"semantic_type\": \"\",\n        \"description\": \"\"\n      }\n    },\n    {\n      \"column\": \"Equity_Market\",\n      \"properties\": {\n        \"dtype\": \"number\",\n        \"std\": 13.100722848897934,\n        \"min\": 1.0,\n        \"max\": 40.0,\n        \"num_unique_values\": 7,\n        \"samples\": [\n          40.0,\n          3.475,\n          4.0\n        ],\n        \"semantic_type\": \"\",\n        \"description\": \"\"\n      }\n    },\n    {\n      \"column\": \"Debentures\",\n      \"properties\": {\n        \"dtype\": \"number\",\n        \"std\": 12.643437520427506,\n        \"min\": 1.0,\n        \"max\": 40.0,\n        \"num_unique_values\": 7,\n        \"samples\": [\n          40.0,\n          5.75,\n          6.5\n        ],\n        \"semantic_type\": \"\",\n        \"description\": \"\"\n      }\n    },\n    {\n      \"column\": \"Government_Bonds\",\n      \"properties\": {\n        \"dtype\": \"number\",\n        \"std\": 12.879510773386338,\n        \"min\": 1.0,\n        \"max\": 40.0,\n        \"num_unique_values\": 7,\n        \"samples\": [\n          40.0,\n          4.65,\n          5.0\n        ],\n        \"semantic_type\": \"\",\n        \"description\": \"\"\n      }\n    },\n    {\n      \"column\": \"Fixed_Deposits\",\n      \"properties\": {\n        \"dtype\": \"number\",\n        \"std\": 13.032030268880106,\n        \"min\": 1.0,\n        \"max\": 40.0,\n        \"num_unique_values\": 8,\n        \"samples\": [\n          3.575,\n          3.5,\n          40.0\n        ],\n        \"semantic_type\": \"\",\n        \"description\": \"\"\n      }\n    },\n    {\n      \"column\": \"PPF\",\n      \"properties\": {\n        \"dtype\": \"number\",\n        \"std\": 13.49190022025064,\n        \"min\": 1.0,\n        \"max\": 40.0,\n        \"num_unique_values\": 6,\n        \"samples\": [\n          40.0,\n          2.025,\n          6.0\n        ],\n        \"semantic_type\": \"\",\n        \"description\": \"\"\n      }\n    },\n    {\n      \"column\": \"Gold\",\n      \"properties\": {\n        \"dtype\": \"number\",\n        \"std\": 12.567892700925277,\n        \"min\": 1.1432634351063984,\n        \"max\": 40.0,\n        \"num_unique_values\": 6,\n        \"samples\": [\n          40.0,\n          5.975,\n          7.0\n        ],\n        \"semantic_type\": \"\",\n        \"description\": \"\"\n      }\n    },\n    {\n      \"column\": \"Duration\",\n      \"properties\": {\n        \"dtype\": \"number\",\n        \"std\": 13.256246225781569,\n        \"min\": 0.5,\n        \"max\": 40.0,\n        \"num_unique_values\": 8,\n        \"samples\": [\n          2.975,\n          3.0,\n          40.0\n        ],\n        \"semantic_type\": \"\",\n        \"description\": \"\"\n      }\n    },\n    {\n      \"column\": \"Expect\",\n      \"properties\": {\n        \"dtype\": \"number\",\n        \"std\": 10.969742090458459,\n        \"min\": 4.500712194354384,\n        \"max\": 40.0,\n        \"num_unique_values\": 6,\n        \"samples\": [\n          40.0,\n          25.5,\n          35.0\n        ],\n        \"semantic_type\": \"\",\n        \"description\": \"\"\n      }\n    }\n  ]\n}"
            }
          },
          "metadata": {},
          "execution_count": 42
        }
      ]
    },
    {
      "cell_type": "code",
      "source": [
        "mean_values = numerical_data.mean()\n",
        "median_values = numerical_data.median()\n",
        "std_values = numerical_data.std()\n",
        "mean_values, median_values, std_values"
      ],
      "metadata": {
        "colab": {
          "base_uri": "https://localhost:8080/"
        },
        "id": "cWFD7OVGKhBJ",
        "outputId": "a728d8b5-ab23-4a75-866e-2a88c60e0839"
      },
      "execution_count": 43,
      "outputs": [
        {
          "output_type": "execute_result",
          "data": {
            "text/plain": [
              "(age                 27.800\n",
              " Mutual_Funds         2.550\n",
              " Equity_Market        3.475\n",
              " Debentures           5.750\n",
              " Government_Bonds     4.650\n",
              " Fixed_Deposits       3.575\n",
              " PPF                  2.025\n",
              " Gold                 5.975\n",
              " Duration             2.975\n",
              " Expect              25.500\n",
              " dtype: float64,\n",
              " age                 27.0\n",
              " Mutual_Funds         2.0\n",
              " Equity_Market        4.0\n",
              " Debentures           6.5\n",
              " Government_Bonds     5.0\n",
              " Fixed_Deposits       3.5\n",
              " PPF                  1.0\n",
              " Gold                 6.0\n",
              " Duration             3.0\n",
              " Expect              25.0\n",
              " dtype: float64,\n",
              " age                 3.560467\n",
              " Mutual_Funds        1.197219\n",
              " Equity_Market       1.131994\n",
              " Debentures          1.675617\n",
              " Government_Bonds    1.369072\n",
              " Fixed_Deposits      1.795828\n",
              " PPF                 1.609069\n",
              " Gold                1.143263\n",
              " Duration            1.224483\n",
              " Expect              4.500712\n",
              " dtype: float64)"
            ]
          },
          "metadata": {},
          "execution_count": 43
        }
      ]
    },
    {
      "cell_type": "markdown",
      "source": [
        "Task 4: Most Preferred Investment Avenue"
      ],
      "metadata": {
        "id": "_5cXpAoNKurx"
      }
    },
    {
      "cell_type": "code",
      "source": [
        "investment_avenue_data = dataset['Avenue']\n",
        "investment_avenue_counts = investment_avenue_data.value_counts()\n",
        "investment_avenue_counts\n",
        "most_preferred_avenue = investment_avenue_counts.idxmax()\n",
        "most_preferred_count = investment_avenue_counts.max()\n",
        "most_preferred_avenue, most_preferred_count"
      ],
      "metadata": {
        "colab": {
          "base_uri": "https://localhost:8080/"
        },
        "id": "UDgv_1wcFu5b",
        "outputId": "ec1508b7-d8e3-40aa-fa40-4154bc91b625"
      },
      "execution_count": 44,
      "outputs": [
        {
          "output_type": "execute_result",
          "data": {
            "text/plain": [
              "('Mutual Fund', 18)"
            ]
          },
          "metadata": {},
          "execution_count": 44
        }
      ]
    },
    {
      "cell_type": "code",
      "source": [
        "investment_avenue_counts = investment_avenue_data.value_counts()\n",
        "investment_avenue_counts"
      ],
      "metadata": {
        "colab": {
          "base_uri": "https://localhost:8080/"
        },
        "id": "mNocMURoK08e",
        "outputId": "acec8402-a190-45d4-ebde-b4e5c329187e"
      },
      "execution_count": 45,
      "outputs": [
        {
          "output_type": "execute_result",
          "data": {
            "text/plain": [
              "Avenue\n",
              "Mutual Fund              18\n",
              "Equity                   10\n",
              "Fixed Deposits            9\n",
              "Public Provident Fund     3\n",
              "Name: count, dtype: int64"
            ]
          },
          "metadata": {},
          "execution_count": 45
        }
      ]
    },
    {
      "cell_type": "code",
      "source": [
        "reason_columns = ['Reason_Equity', 'Reason_Mutual', 'Reason_Bonds', 'Reason_FD']\n",
        "reasons_data = dataset[reason_columns]\n",
        "reasons_data.head()"
      ],
      "metadata": {
        "colab": {
          "base_uri": "https://localhost:8080/",
          "height": 206
        },
        "id": "ghSpNxvjGET_",
        "outputId": "80909ebe-7cae-4e21-8ecc-b03f6ef9eeca"
      },
      "execution_count": 46,
      "outputs": [
        {
          "output_type": "execute_result",
          "data": {
            "text/plain": [
              "          Reason_Equity         Reason_Mutual     Reason_Bonds  \\\n",
              "0  Capital Appreciation        Better Returns  Safe Investment   \n",
              "1              Dividend        Better Returns  Safe Investment   \n",
              "2  Capital Appreciation          Tax Benefits  Assured Returns   \n",
              "3              Dividend  Fund Diversification   Tax Incentives   \n",
              "4  Capital Appreciation        Better Returns  Safe Investment   \n",
              "\n",
              "             Reason_FD  \n",
              "0        Fixed Returns  \n",
              "1  High Interest Rates  \n",
              "2        Fixed Returns  \n",
              "3  High Interest Rates  \n",
              "4            Risk Free  "
            ],
            "text/html": [
              "\n",
              "  <div id=\"df-9bc52f7f-5054-4ae0-a4d9-dd262235dcd6\" class=\"colab-df-container\">\n",
              "    <div>\n",
              "<style scoped>\n",
              "    .dataframe tbody tr th:only-of-type {\n",
              "        vertical-align: middle;\n",
              "    }\n",
              "\n",
              "    .dataframe tbody tr th {\n",
              "        vertical-align: top;\n",
              "    }\n",
              "\n",
              "    .dataframe thead th {\n",
              "        text-align: right;\n",
              "    }\n",
              "</style>\n",
              "<table border=\"1\" class=\"dataframe\">\n",
              "  <thead>\n",
              "    <tr style=\"text-align: right;\">\n",
              "      <th></th>\n",
              "      <th>Reason_Equity</th>\n",
              "      <th>Reason_Mutual</th>\n",
              "      <th>Reason_Bonds</th>\n",
              "      <th>Reason_FD</th>\n",
              "    </tr>\n",
              "  </thead>\n",
              "  <tbody>\n",
              "    <tr>\n",
              "      <th>0</th>\n",
              "      <td>Capital Appreciation</td>\n",
              "      <td>Better Returns</td>\n",
              "      <td>Safe Investment</td>\n",
              "      <td>Fixed Returns</td>\n",
              "    </tr>\n",
              "    <tr>\n",
              "      <th>1</th>\n",
              "      <td>Dividend</td>\n",
              "      <td>Better Returns</td>\n",
              "      <td>Safe Investment</td>\n",
              "      <td>High Interest Rates</td>\n",
              "    </tr>\n",
              "    <tr>\n",
              "      <th>2</th>\n",
              "      <td>Capital Appreciation</td>\n",
              "      <td>Tax Benefits</td>\n",
              "      <td>Assured Returns</td>\n",
              "      <td>Fixed Returns</td>\n",
              "    </tr>\n",
              "    <tr>\n",
              "      <th>3</th>\n",
              "      <td>Dividend</td>\n",
              "      <td>Fund Diversification</td>\n",
              "      <td>Tax Incentives</td>\n",
              "      <td>High Interest Rates</td>\n",
              "    </tr>\n",
              "    <tr>\n",
              "      <th>4</th>\n",
              "      <td>Capital Appreciation</td>\n",
              "      <td>Better Returns</td>\n",
              "      <td>Safe Investment</td>\n",
              "      <td>Risk Free</td>\n",
              "    </tr>\n",
              "  </tbody>\n",
              "</table>\n",
              "</div>\n",
              "    <div class=\"colab-df-buttons\">\n",
              "\n",
              "  <div class=\"colab-df-container\">\n",
              "    <button class=\"colab-df-convert\" onclick=\"convertToInteractive('df-9bc52f7f-5054-4ae0-a4d9-dd262235dcd6')\"\n",
              "            title=\"Convert this dataframe to an interactive table.\"\n",
              "            style=\"display:none;\">\n",
              "\n",
              "  <svg xmlns=\"http://www.w3.org/2000/svg\" height=\"24px\" viewBox=\"0 -960 960 960\">\n",
              "    <path d=\"M120-120v-720h720v720H120Zm60-500h600v-160H180v160Zm220 220h160v-160H400v160Zm0 220h160v-160H400v160ZM180-400h160v-160H180v160Zm440 0h160v-160H620v160ZM180-180h160v-160H180v160Zm440 0h160v-160H620v160Z\"/>\n",
              "  </svg>\n",
              "    </button>\n",
              "\n",
              "  <style>\n",
              "    .colab-df-container {\n",
              "      display:flex;\n",
              "      gap: 12px;\n",
              "    }\n",
              "\n",
              "    .colab-df-convert {\n",
              "      background-color: #E8F0FE;\n",
              "      border: none;\n",
              "      border-radius: 50%;\n",
              "      cursor: pointer;\n",
              "      display: none;\n",
              "      fill: #1967D2;\n",
              "      height: 32px;\n",
              "      padding: 0 0 0 0;\n",
              "      width: 32px;\n",
              "    }\n",
              "\n",
              "    .colab-df-convert:hover {\n",
              "      background-color: #E2EBFA;\n",
              "      box-shadow: 0px 1px 2px rgba(60, 64, 67, 0.3), 0px 1px 3px 1px rgba(60, 64, 67, 0.15);\n",
              "      fill: #174EA6;\n",
              "    }\n",
              "\n",
              "    .colab-df-buttons div {\n",
              "      margin-bottom: 4px;\n",
              "    }\n",
              "\n",
              "    [theme=dark] .colab-df-convert {\n",
              "      background-color: #3B4455;\n",
              "      fill: #D2E3FC;\n",
              "    }\n",
              "\n",
              "    [theme=dark] .colab-df-convert:hover {\n",
              "      background-color: #434B5C;\n",
              "      box-shadow: 0px 1px 3px 1px rgba(0, 0, 0, 0.15);\n",
              "      filter: drop-shadow(0px 1px 2px rgba(0, 0, 0, 0.3));\n",
              "      fill: #FFFFFF;\n",
              "    }\n",
              "  </style>\n",
              "\n",
              "    <script>\n",
              "      const buttonEl =\n",
              "        document.querySelector('#df-9bc52f7f-5054-4ae0-a4d9-dd262235dcd6 button.colab-df-convert');\n",
              "      buttonEl.style.display =\n",
              "        google.colab.kernel.accessAllowed ? 'block' : 'none';\n",
              "\n",
              "      async function convertToInteractive(key) {\n",
              "        const element = document.querySelector('#df-9bc52f7f-5054-4ae0-a4d9-dd262235dcd6');\n",
              "        const dataTable =\n",
              "          await google.colab.kernel.invokeFunction('convertToInteractive',\n",
              "                                                    [key], {});\n",
              "        if (!dataTable) return;\n",
              "\n",
              "        const docLinkHtml = 'Like what you see? Visit the ' +\n",
              "          '<a target=\"_blank\" href=https://colab.research.google.com/notebooks/data_table.ipynb>data table notebook</a>'\n",
              "          + ' to learn more about interactive tables.';\n",
              "        element.innerHTML = '';\n",
              "        dataTable['output_type'] = 'display_data';\n",
              "        await google.colab.output.renderOutput(dataTable, element);\n",
              "        const docLink = document.createElement('div');\n",
              "        docLink.innerHTML = docLinkHtml;\n",
              "        element.appendChild(docLink);\n",
              "      }\n",
              "    </script>\n",
              "  </div>\n",
              "\n",
              "\n",
              "<div id=\"df-0b6cb384-c14f-4cf5-828a-901a02f48508\">\n",
              "  <button class=\"colab-df-quickchart\" onclick=\"quickchart('df-0b6cb384-c14f-4cf5-828a-901a02f48508')\"\n",
              "            title=\"Suggest charts\"\n",
              "            style=\"display:none;\">\n",
              "\n",
              "<svg xmlns=\"http://www.w3.org/2000/svg\" height=\"24px\"viewBox=\"0 0 24 24\"\n",
              "     width=\"24px\">\n",
              "    <g>\n",
              "        <path d=\"M19 3H5c-1.1 0-2 .9-2 2v14c0 1.1.9 2 2 2h14c1.1 0 2-.9 2-2V5c0-1.1-.9-2-2-2zM9 17H7v-7h2v7zm4 0h-2V7h2v10zm4 0h-2v-4h2v4z\"/>\n",
              "    </g>\n",
              "</svg>\n",
              "  </button>\n",
              "\n",
              "<style>\n",
              "  .colab-df-quickchart {\n",
              "      --bg-color: #E8F0FE;\n",
              "      --fill-color: #1967D2;\n",
              "      --hover-bg-color: #E2EBFA;\n",
              "      --hover-fill-color: #174EA6;\n",
              "      --disabled-fill-color: #AAA;\n",
              "      --disabled-bg-color: #DDD;\n",
              "  }\n",
              "\n",
              "  [theme=dark] .colab-df-quickchart {\n",
              "      --bg-color: #3B4455;\n",
              "      --fill-color: #D2E3FC;\n",
              "      --hover-bg-color: #434B5C;\n",
              "      --hover-fill-color: #FFFFFF;\n",
              "      --disabled-bg-color: #3B4455;\n",
              "      --disabled-fill-color: #666;\n",
              "  }\n",
              "\n",
              "  .colab-df-quickchart {\n",
              "    background-color: var(--bg-color);\n",
              "    border: none;\n",
              "    border-radius: 50%;\n",
              "    cursor: pointer;\n",
              "    display: none;\n",
              "    fill: var(--fill-color);\n",
              "    height: 32px;\n",
              "    padding: 0;\n",
              "    width: 32px;\n",
              "  }\n",
              "\n",
              "  .colab-df-quickchart:hover {\n",
              "    background-color: var(--hover-bg-color);\n",
              "    box-shadow: 0 1px 2px rgba(60, 64, 67, 0.3), 0 1px 3px 1px rgba(60, 64, 67, 0.15);\n",
              "    fill: var(--button-hover-fill-color);\n",
              "  }\n",
              "\n",
              "  .colab-df-quickchart-complete:disabled,\n",
              "  .colab-df-quickchart-complete:disabled:hover {\n",
              "    background-color: var(--disabled-bg-color);\n",
              "    fill: var(--disabled-fill-color);\n",
              "    box-shadow: none;\n",
              "  }\n",
              "\n",
              "  .colab-df-spinner {\n",
              "    border: 2px solid var(--fill-color);\n",
              "    border-color: transparent;\n",
              "    border-bottom-color: var(--fill-color);\n",
              "    animation:\n",
              "      spin 1s steps(1) infinite;\n",
              "  }\n",
              "\n",
              "  @keyframes spin {\n",
              "    0% {\n",
              "      border-color: transparent;\n",
              "      border-bottom-color: var(--fill-color);\n",
              "      border-left-color: var(--fill-color);\n",
              "    }\n",
              "    20% {\n",
              "      border-color: transparent;\n",
              "      border-left-color: var(--fill-color);\n",
              "      border-top-color: var(--fill-color);\n",
              "    }\n",
              "    30% {\n",
              "      border-color: transparent;\n",
              "      border-left-color: var(--fill-color);\n",
              "      border-top-color: var(--fill-color);\n",
              "      border-right-color: var(--fill-color);\n",
              "    }\n",
              "    40% {\n",
              "      border-color: transparent;\n",
              "      border-right-color: var(--fill-color);\n",
              "      border-top-color: var(--fill-color);\n",
              "    }\n",
              "    60% {\n",
              "      border-color: transparent;\n",
              "      border-right-color: var(--fill-color);\n",
              "    }\n",
              "    80% {\n",
              "      border-color: transparent;\n",
              "      border-right-color: var(--fill-color);\n",
              "      border-bottom-color: var(--fill-color);\n",
              "    }\n",
              "    90% {\n",
              "      border-color: transparent;\n",
              "      border-bottom-color: var(--fill-color);\n",
              "    }\n",
              "  }\n",
              "</style>\n",
              "\n",
              "  <script>\n",
              "    async function quickchart(key) {\n",
              "      const quickchartButtonEl =\n",
              "        document.querySelector('#' + key + ' button');\n",
              "      quickchartButtonEl.disabled = true;  // To prevent multiple clicks.\n",
              "      quickchartButtonEl.classList.add('colab-df-spinner');\n",
              "      try {\n",
              "        const charts = await google.colab.kernel.invokeFunction(\n",
              "            'suggestCharts', [key], {});\n",
              "      } catch (error) {\n",
              "        console.error('Error during call to suggestCharts:', error);\n",
              "      }\n",
              "      quickchartButtonEl.classList.remove('colab-df-spinner');\n",
              "      quickchartButtonEl.classList.add('colab-df-quickchart-complete');\n",
              "    }\n",
              "    (() => {\n",
              "      let quickchartButtonEl =\n",
              "        document.querySelector('#df-0b6cb384-c14f-4cf5-828a-901a02f48508 button');\n",
              "      quickchartButtonEl.style.display =\n",
              "        google.colab.kernel.accessAllowed ? 'block' : 'none';\n",
              "    })();\n",
              "  </script>\n",
              "</div>\n",
              "\n",
              "    </div>\n",
              "  </div>\n"
            ],
            "application/vnd.google.colaboratory.intrinsic+json": {
              "type": "dataframe",
              "variable_name": "reasons_data",
              "summary": "{\n  \"name\": \"reasons_data\",\n  \"rows\": 40,\n  \"fields\": [\n    {\n      \"column\": \"Reason_Equity\",\n      \"properties\": {\n        \"dtype\": \"category\",\n        \"num_unique_values\": 3,\n        \"samples\": [\n          \"Capital Appreciation\",\n          \"Dividend\",\n          \"Liquidity\"\n        ],\n        \"semantic_type\": \"\",\n        \"description\": \"\"\n      }\n    },\n    {\n      \"column\": \"Reason_Mutual\",\n      \"properties\": {\n        \"dtype\": \"category\",\n        \"num_unique_values\": 3,\n        \"samples\": [\n          \"Better Returns\",\n          \"Tax Benefits\",\n          \"Fund Diversification\"\n        ],\n        \"semantic_type\": \"\",\n        \"description\": \"\"\n      }\n    },\n    {\n      \"column\": \"Reason_Bonds\",\n      \"properties\": {\n        \"dtype\": \"category\",\n        \"num_unique_values\": 3,\n        \"samples\": [\n          \"Safe Investment\",\n          \"Assured Returns\",\n          \"Tax Incentives\"\n        ],\n        \"semantic_type\": \"\",\n        \"description\": \"\"\n      }\n    },\n    {\n      \"column\": \"Reason_FD\",\n      \"properties\": {\n        \"dtype\": \"category\",\n        \"num_unique_values\": 3,\n        \"samples\": [\n          \"Fixed Returns\",\n          \"High Interest Rates\",\n          \"Risk Free\"\n        ],\n        \"semantic_type\": \"\",\n        \"description\": \"\"\n      }\n    }\n  ]\n}"
            }
          },
          "metadata": {},
          "execution_count": 46
        }
      ]
    },
    {
      "cell_type": "markdown",
      "source": [
        "Task 5: Reasons for Investment"
      ],
      "metadata": {
        "id": "g8_f0K2OK444"
      }
    },
    {
      "cell_type": "code",
      "source": [
        "reason_columns = ['Reason_Equity', 'Reason_Mutual', 'Reason_Bonds', 'Reason_FD']\n",
        "reasons_data = dataset[reason_columns]"
      ],
      "metadata": {
        "id": "xd5Sp5lrK7PD"
      },
      "execution_count": 47,
      "outputs": []
    },
    {
      "cell_type": "code",
      "source": [
        "reasons_summary = {}\n",
        "for column in reason_columns:\n",
        "    reason_counts = dataset[column].value_counts()\n",
        "    reasons_summary[column] = reason_counts\n",
        "reasons_summary"
      ],
      "metadata": {
        "colab": {
          "base_uri": "https://localhost:8080/"
        },
        "id": "4VGeuaccLANH",
        "outputId": "f876b077-07c4-4cc1-8e1f-1b572f3afa35"
      },
      "execution_count": 48,
      "outputs": [
        {
          "output_type": "execute_result",
          "data": {
            "text/plain": [
              "{'Reason_Equity': Reason_Equity\n",
              " Capital Appreciation    30\n",
              " Dividend                 8\n",
              " Liquidity                2\n",
              " Name: count, dtype: int64,\n",
              " 'Reason_Mutual': Reason_Mutual\n",
              " Better Returns          24\n",
              " Fund Diversification    13\n",
              " Tax Benefits             3\n",
              " Name: count, dtype: int64,\n",
              " 'Reason_Bonds': Reason_Bonds\n",
              " Assured Returns    26\n",
              " Safe Investment    13\n",
              " Tax Incentives      1\n",
              " Name: count, dtype: int64,\n",
              " 'Reason_FD': Reason_FD\n",
              " Risk Free              19\n",
              " Fixed Returns          18\n",
              " High Interest Rates     3\n",
              " Name: count, dtype: int64}"
            ]
          },
          "metadata": {},
          "execution_count": 48
        }
      ]
    },
    {
      "cell_type": "markdown",
      "source": [
        "Task 6: Savings Objectives"
      ],
      "metadata": {
        "id": "SzL5HWS2LE9_"
      }
    },
    {
      "cell_type": "code",
      "source": [
        "savings_objectives = dataset['What are your savings objectives?']"
      ],
      "metadata": {
        "id": "3LgYXZqgLGkN"
      },
      "execution_count": 41,
      "outputs": []
    },
    {
      "cell_type": "code",
      "source": [
        "savings_objectives_counts = savings_objectives.value_counts()\n",
        "savings_objectives_counts"
      ],
      "metadata": {
        "colab": {
          "base_uri": "https://localhost:8080/"
        },
        "id": "EJ69EEIHLJXY",
        "outputId": "3547d4af-6c04-49a3-bdea-ef0ddcb9981a"
      },
      "execution_count": null,
      "outputs": [
        {
          "output_type": "execute_result",
          "data": {
            "text/plain": [
              "What are your savings objectives?\n",
              "Retirement Plan    24\n",
              "Health Care        13\n",
              "Education           3\n",
              "Name: count, dtype: int64"
            ]
          },
          "metadata": {},
          "execution_count": 14
        }
      ]
    },
    {
      "cell_type": "markdown",
      "source": [
        "Task 7: Common Information Sources"
      ],
      "metadata": {
        "id": "eTmM9UIXLOq9"
      }
    },
    {
      "cell_type": "code",
      "source": [
        "information_sources = dataset['Source']"
      ],
      "metadata": {
        "id": "SQY5DpxMLNbx"
      },
      "execution_count": null,
      "outputs": []
    },
    {
      "cell_type": "code",
      "source": [
        "information_sources_counts = information_sources.value_counts()\n",
        "information_sources_counts"
      ],
      "metadata": {
        "colab": {
          "base_uri": "https://localhost:8080/"
        },
        "id": "n226PDLoLTeQ",
        "outputId": "36f21319-d964-4417-dab5-2774b78b7ae0"
      },
      "execution_count": null,
      "outputs": [
        {
          "output_type": "execute_result",
          "data": {
            "text/plain": [
              "Source\n",
              "Financial Consultants       16\n",
              "Newspapers and Magazines    14\n",
              "Television                   6\n",
              "Internet                     4\n",
              "Name: count, dtype: int64"
            ]
          },
          "metadata": {},
          "execution_count": 16
        }
      ]
    },
    {
      "cell_type": "markdown",
      "source": [
        "Task 8: Investment Duration"
      ],
      "metadata": {
        "id": "QcvNq2v-LXoO"
      }
    },
    {
      "cell_type": "code",
      "source": [
        "investment_duration = dataset['Duration']"
      ],
      "metadata": {
        "id": "oo1juchsLZLs"
      },
      "execution_count": null,
      "outputs": []
    },
    {
      "cell_type": "code",
      "source": [
        "duration_mapping = {\n",
        "    'Less than 1 year': 0.5,\n",
        "    '1-3 years': 2,\n",
        "    '3-5 years': 4,\n",
        "    'More than 5 years': 6\n",
        "}\n",
        "investment_duration_numeric = investment_duration.map(duration_mapping)\n",
        "average_duration = investment_duration_numeric.mean()\n",
        "average_duration"
      ],
      "metadata": {
        "colab": {
          "base_uri": "https://localhost:8080/"
        },
        "id": "FBCE0N_gLbEM",
        "outputId": "aca7639e-5789-4a5e-e053-0cd1cfbc3ee9"
      },
      "execution_count": null,
      "outputs": [
        {
          "output_type": "execute_result",
          "data": {
            "text/plain": [
              "2.975"
            ]
          },
          "metadata": {},
          "execution_count": 18
        }
      ]
    },
    {
      "cell_type": "markdown",
      "source": [
        "Task 9: Expectations from Investments"
      ],
      "metadata": {
        "id": "vccNM6bELgnM"
      }
    },
    {
      "cell_type": "code",
      "source": [
        "investment_expectations = dataset['Expect']"
      ],
      "metadata": {
        "id": "sca8p4TnLiDs"
      },
      "execution_count": null,
      "outputs": []
    },
    {
      "cell_type": "code",
      "source": [
        "expectations_counts = investment_expectations.value_counts()\n",
        "expectations_counts"
      ],
      "metadata": {
        "colab": {
          "base_uri": "https://localhost:8080/"
        },
        "id": "G39afoU5Lkcm",
        "outputId": "67c7467e-299e-4e2b-e46e-96154899f941"
      },
      "execution_count": null,
      "outputs": [
        {
          "output_type": "execute_result",
          "data": {
            "text/plain": [
              "Expect\n",
              "20%-30%    32\n",
              "30%-40%     5\n",
              "10%-20%     3\n",
              "Name: count, dtype: int64"
            ]
          },
          "metadata": {},
          "execution_count": 20
        }
      ]
    },
    {
      "cell_type": "markdown",
      "source": [
        "Task 10: Correlation Analysis"
      ],
      "metadata": {
        "id": "IY9WdQQbLpqd"
      }
    },
    {
      "cell_type": "code",
      "source": [
        "print(dataset.columns)"
      ],
      "metadata": {
        "colab": {
          "base_uri": "https://localhost:8080/"
        },
        "id": "fmgMPfmROGMF",
        "outputId": "e0ea4220-099d-4722-b150-ecbdb7b8aaa6"
      },
      "execution_count": null,
      "outputs": [
        {
          "output_type": "stream",
          "name": "stdout",
          "text": [
            "Index(['gender', 'age', 'Investment_Avenues', 'Mutual_Funds', 'Equity_Market',\n",
            "       'Debentures', 'Government_Bonds', 'Fixed_Deposits', 'PPF', 'Gold',\n",
            "       'Stock_Marktet', 'Factor', 'Objective', 'Purpose', 'Duration',\n",
            "       'Invest_Monitor', 'Expect', 'Avenue',\n",
            "       'What are your savings objectives?', 'Reason_Equity', 'Reason_Mutual',\n",
            "       'Reason_Bonds', 'Reason_FD', 'Source'],\n",
            "      dtype='object')\n"
          ]
        }
      ]
    },
    {
      "cell_type": "code",
      "source": [
        "duration_mapping = {\n",
        "    'Less than 1 year': 0.5,\n",
        "    '1-3 years': 2,\n",
        "    '3-5 years': 4,\n",
        "    'More than 5 years': 6\n",
        "}\n",
        "dataset['Duration'] = dataset['Duration'].map(duration_mapping)"
      ],
      "metadata": {
        "id": "yqBXIAmWOLB_"
      },
      "execution_count": null,
      "outputs": []
    },
    {
      "cell_type": "code",
      "source": [
        "relevant_columns = ['age', 'Duration', 'Expect']\n",
        "print(dataset[relevant_columns].head())"
      ],
      "metadata": {
        "colab": {
          "base_uri": "https://localhost:8080/"
        },
        "id": "kiGgCJ9BOPB5",
        "outputId": "8a581b66-f741-4851-e3f0-fcacaa930431"
      },
      "execution_count": null,
      "outputs": [
        {
          "output_type": "stream",
          "name": "stdout",
          "text": [
            "   age  Duration   Expect\n",
            "0   34       2.0  20%-30%\n",
            "1   23       6.0  20%-30%\n",
            "2   30       4.0  20%-30%\n",
            "3   22       0.5  10%-20%\n",
            "4   24       0.5  20%-30%\n"
          ]
        }
      ]
    },
    {
      "cell_type": "code",
      "source": [
        "def convert_expectation_to_numeric(expectation):\n",
        "    if isinstance(expectation, str):\n",
        "        expectation = expectation.replace('%', '')\n",
        "        if '-' in expectation:\n",
        "            low, high = expectation.split('-')\n",
        "            return (float(low) + float(high)) / 2\n",
        "        return float(expectation)\n",
        "    return expectation\n",
        "dataset['Expect'] = dataset['Expect'].apply(convert_expectation_to_numeric)"
      ],
      "metadata": {
        "id": "TeXANbz-OqIO"
      },
      "execution_count": null,
      "outputs": []
    },
    {
      "cell_type": "code",
      "source": [
        "correlation_matrix = dataset[relevant_columns].corr()\n",
        "print(correlation_matrix)\n",
        "import seaborn as sns\n",
        "import matplotlib.pyplot as plt\n",
        "sns.heatmap(correlation_matrix, annot=True, cmap='coolwarm')\n",
        "plt.title('Correlation Matrix')\n",
        "plt.show()"
      ],
      "metadata": {
        "colab": {
          "base_uri": "https://localhost:8080/",
          "height": 521
        },
        "id": "bG-0k5SXOu3W",
        "outputId": "373bdf25-3dee-4105-ce05-5cb29032bdcc"
      },
      "execution_count": null,
      "outputs": [
        {
          "output_type": "stream",
          "name": "stdout",
          "text": [
            "               age  Duration    Expect\n",
            "age       1.000000  0.051756 -0.089606\n",
            "Duration  0.051756  1.000000  0.258223\n",
            "Expect   -0.089606  0.258223  1.000000\n"
          ]
        },
        {
          "output_type": "display_data",
          "data": {
            "text/plain": [
              "<Figure size 640x480 with 2 Axes>"
            ],
            "image/png": "[encoded data removed]"
          },
          "metadata": {}
        }
      ]
    }
  ]
}